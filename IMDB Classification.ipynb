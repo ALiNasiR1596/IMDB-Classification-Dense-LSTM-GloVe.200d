{
 "cells": [
  {
   "cell_type": "markdown",
   "metadata": {},
   "source": [
    "### Loading the IMDB data."
   ]
  },
  {
   "cell_type": "code",
   "execution_count": 1,
   "metadata": {},
   "outputs": [
    {
     "name": "stderr",
     "output_type": "stream",
     "text": [
      "<__array_function__ internals>:5: VisibleDeprecationWarning: Creating an ndarray from ragged nested sequences (which is a list-or-tuple of lists-or-tuples-or ndarrays with different lengths or shapes) is deprecated. If you meant to do this, you must specify 'dtype=object' when creating the ndarray\n",
      "C:\\Users\\alina\\anaconda3\\lib\\site-packages\\tensorflow\\python\\keras\\datasets\\imdb.py:159: VisibleDeprecationWarning: Creating an ndarray from ragged nested sequences (which is a list-or-tuple of lists-or-tuples-or ndarrays with different lengths or shapes) is deprecated. If you meant to do this, you must specify 'dtype=object' when creating the ndarray\n",
      "  x_train, y_train = np.array(xs[:idx]), np.array(labels[:idx])\n",
      "C:\\Users\\alina\\anaconda3\\lib\\site-packages\\tensorflow\\python\\keras\\datasets\\imdb.py:160: VisibleDeprecationWarning: Creating an ndarray from ragged nested sequences (which is a list-or-tuple of lists-or-tuples-or ndarrays with different lengths or shapes) is deprecated. If you meant to do this, you must specify 'dtype=object' when creating the ndarray\n",
      "  x_test, y_test = np.array(xs[idx:]), np.array(labels[idx:])\n"
     ]
    }
   ],
   "source": [
    "import numpy as np\n",
    "from keras.datasets import imdb\n",
    "from keras import preprocessing\n",
    "\n",
    "(x_train, y_train), (x_test, y_test) = imdb.load_data(num_words = 10000)\n",
    "\n",
    "x_train = preprocessing.sequence.pad_sequences(x_train, maxlen=300)\n",
    "x_test = preprocessing.sequence.pad_sequences(x_test, maxlen=300)"
   ]
  },
  {
   "cell_type": "markdown",
   "metadata": {},
   "source": [
    "### Using an Embedding layer and classifier on the IMDB data.\n",
    "\n",
    "\n",
    "**input_dim** Size of the vocabulary, i.e. maximum integer index + 1.\n",
    "\n",
    "**output_dim** Dimension of the dense embedding.--> Every word will be mapped onto a vector with, in this case, 8 elements. This is the size of the vector space in which words will be embedded. It defines the size of the output vectors from this layer for each word.\n",
    "\n",
    "**input_length** Length of input sequences, when it is constant. This argument is required if you are going to connect \n",
    " <Flatten> then <Dense> layers upstream (without it, the shape of the dense outputs cannot be computed).\n",
    "\n",
    " --> After the Embedding layer, the activations have shape (samples, 300, 8)"
   ]
  },
  {
   "cell_type": "code",
   "execution_count": 2,
   "metadata": {},
   "outputs": [
    {
     "name": "stdout",
     "output_type": "stream",
     "text": [
      "Model: \"sequential\"\n",
      "_________________________________________________________________\n",
      "Layer (type)                 Output Shape              Param #   \n",
      "=================================================================\n",
      "embedding (Embedding)        (None, 300, 8)            80000     \n",
      "_________________________________________________________________\n",
      "flatten (Flatten)            (None, 2400)              0         \n",
      "_________________________________________________________________\n",
      "dense (Dense)                (None, 1)                 2401      \n",
      "=================================================================\n",
      "Total params: 82,401\n",
      "Trainable params: 82,401\n",
      "Non-trainable params: 0\n",
      "_________________________________________________________________\n"
     ]
    }
   ],
   "source": [
    "from keras.layers import Embedding\n",
    "from keras.models import Sequential\n",
    "from keras.layers import Flatten, Dense\n",
    "\n",
    "model = Sequential()\n",
    "model.add(Embedding(10000, 8, input_length = 300)) \n",
    "\n",
    "model.add(Flatten())\n",
    "\n",
    "model.add(Dense(1, activation=\"sigmoid\"))\n",
    "model.compile(optimizer=\"rmsprop\", loss=\"binary_crossentropy\", metrics=[\"acc\"])\n",
    "model.summary()"
   ]
  },
  {
   "cell_type": "markdown",
   "metadata": {},
   "source": [
    "### Number of Parameters\n",
    "\n",
    "**Embedding** = vocabulary size i.e. input x output = 10.000 x 8 = 80.000\n",
    "\n",
    "**Dense** = 300 i.e. input_length x Output + 1 = 300 x 8 + 1 =2.401\n",
    "\n",
    "*** Total params = 82.401***"
   ]
  },
  {
   "cell_type": "code",
   "execution_count": 3,
   "metadata": {},
   "outputs": [
    {
     "name": "stdout",
     "output_type": "stream",
     "text": [
      "Epoch 1/10\n",
      "625/625 [==============================] - 2s 4ms/step - loss: 0.5620 - acc: 0.7239 - val_loss: 0.3738 - val_acc: 0.8502\n",
      "Epoch 2/10\n",
      "625/625 [==============================] - 2s 4ms/step - loss: 0.2907 - acc: 0.8867 - val_loss: 0.2946 - val_acc: 0.8810\n",
      "Epoch 3/10\n",
      "625/625 [==============================] - 2s 3ms/step - loss: 0.2244 - acc: 0.9140 - val_loss: 0.2794 - val_acc: 0.8826\n",
      "Epoch 4/10\n",
      "625/625 [==============================] - 4s 6ms/step - loss: 0.1920 - acc: 0.9262 - val_loss: 0.2725 - val_acc: 0.8948\n",
      "Epoch 5/10\n",
      "625/625 [==============================] - 4s 6ms/step - loss: 0.1703 - acc: 0.9358 - val_loss: 0.2778 - val_acc: 0.8932\n",
      "Epoch 6/10\n",
      "625/625 [==============================] - 3s 6ms/step - loss: 0.1526 - acc: 0.9426 - val_loss: 0.2868 - val_acc: 0.8904\n",
      "Epoch 7/10\n",
      "625/625 [==============================] - 4s 6ms/step - loss: 0.1378 - acc: 0.9496 - val_loss: 0.2915 - val_acc: 0.8900\n",
      "Epoch 8/10\n",
      "625/625 [==============================] - 4s 6ms/step - loss: 0.1243 - acc: 0.9559 - val_loss: 0.3004 - val_acc: 0.8916\n",
      "Epoch 9/10\n",
      "625/625 [==============================] - 4s 6ms/step - loss: 0.1113 - acc: 0.9602 - val_loss: 0.3248 - val_acc: 0.8836\n",
      "Epoch 10/10\n",
      "625/625 [==============================] - 4s 6ms/step - loss: 0.0994 - acc: 0.9646 - val_loss: 0.3207 - val_acc: 0.8896\n"
     ]
    }
   ],
   "source": [
    "history = model.fit(x_train, y_train, epochs=10, batch_size=32, validation_split=0.2)"
   ]
  },
  {
   "cell_type": "code",
   "execution_count": 4,
   "metadata": {},
   "outputs": [
    {
     "name": "stdout",
     "output_type": "stream",
     "text": [
      "782/782 [==============================] - 2s 3ms/step - loss: 0.1282 - acc: 0.9570\n"
     ]
    },
    {
     "data": {
      "text/plain": [
       "[0.1282130926847458, 0.957040011882782]"
      ]
     },
     "execution_count": 4,
     "metadata": {},
     "output_type": "execute_result"
    }
   ],
   "source": [
    "model.evaluate(x_train,y_train)"
   ]
  },
  {
   "cell_type": "code",
   "execution_count": 5,
   "metadata": {},
   "outputs": [
    {
     "data": {
      "image/png": "[encoded data removed]",
      "text/plain": [
       "<Figure size 432x288 with 1 Axes>"
      ]
     },
     "metadata": {
      "needs_background": "light"
     },
     "output_type": "display_data"
    },
    {
     "data": {
      "image/png": "[encoded data removed]",
      "text/plain": [
       "<Figure size 432x288 with 1 Axes>"
      ]
     },
     "metadata": {
      "needs_background": "light"
     },
     "output_type": "display_data"
    }
   ],
   "source": [
    "import matplotlib.pyplot as plt\n",
    "\n",
    "acc = history.history[\"acc\"] # Training accuracy\n",
    "val_acc = history.history[\"val_acc\"] # Validation accuracy\n",
    "loss = history.history[\"loss\"] # Training loss\n",
    "val_loss = history.history[\"val_loss\"] # Validation loss\n",
    "\n",
    "epochs = range(1, len(acc) + 1) #plots every epoch, here 10\n",
    "\n",
    "plt.plot(epochs, acc, \"bo\", label = \"Training acc\") # \"bo\" gives dot plot\n",
    "plt.plot(epochs, val_acc, \"b\", label = \"Validation acc\") # \"b\" gives line plot\n",
    "plt.title(\"Training and validation accuracy\")\n",
    "plt.legend()\n",
    "plt.figure()\n",
    "\n",
    "plt.plot(epochs, loss, \"bo\", label = \"Training loss\")\n",
    "plt.plot(epochs, val_loss, \"b\", label = \"Validation loss\")\n",
    "plt.title(\"Training and validation loss\")\n",
    "plt.legend()\n",
    "\n",
    "plt.show()"
   ]
  },
  {
   "cell_type": "markdown",
   "metadata": {},
   "source": [
    "### Using Pretrained Word Embeddings"
   ]
  },
  {
   "cell_type": "code",
   "execution_count": 7,
   "metadata": {},
   "outputs": [],
   "source": [
    "import os\n",
    "\n",
    "imdb_dir = \"F:\\\\Study\\\\UMT\\\\S7\\\\Deep Learning\\\\Assignments\\\\Assignment 3\\\\aclImdb\"\n",
    "train_dir = os.path.join(imdb_dir, \"train\")\n",
    "\n",
    "labels = []\n",
    "texts = []\n",
    "\n",
    "for label_type in [\"neg\", \"pos\"]:\n",
    "    dir_name = os.path.join(train_dir, label_type)\n",
    "    for fname in os.listdir(dir_name):\n",
    "        if fname [-4:] == \".txt\":\n",
    "            f = open(os.path.join(dir_name, fname))\n",
    "            f = open(os.path.join(dir_name, fname), encoding='utf-8')\n",
    "            texts.append(f.read())\n",
    "            f.close()\n",
    "            if label_type == \"neg\":\n",
    "                labels.append(0)\n",
    "            else:\n",
    "                labels.append(1)             "
   ]
  },
  {
   "cell_type": "markdown",
   "metadata": {},
   "source": [
    "#### Tokenizing the data\n",
    "Because pretrained word embeddings are meant to be particularily useful on problems where little data is available, I will restrict the traing data to the first 200 samples only. Let's see how well it works! "
   ]
  },
  {
   "cell_type": "code",
   "execution_count": 8,
   "metadata": {},
   "outputs": [
    {
     "name": "stdout",
     "output_type": "stream",
     "text": [
      "Found 88582 unique tokens.\n",
      "Shape of data tensor: (25000, 300)\n",
      "Shape of label tensor: (25000,)\n"
     ]
    }
   ],
   "source": [
    "from keras.preprocessing.text import Tokenizer\n",
    "from keras.preprocessing. sequence import pad_sequences\n",
    "\n",
    "training_samples = 200 # Trains on 200 samples\n",
    "validation_samples = 10000 # Validates o 10000 samples\n",
    "max_words = 10000 # Considers only the top 10000 words in the dataset\n",
    "\n",
    "tokenizer = Tokenizer(num_words=max_words)\n",
    "tokenizer.fit_on_texts(texts)\n",
    "sequences = tokenizer.texts_to_sequences(texts)\n",
    "word_index = tokenizer.word_index             \n",
    "print(\"Found %s unique tokens.\" % len(word_index))\n",
    "\n",
    "data = pad_sequences(sequences, maxlen=300)\n",
    "\n",
    "labels = np.asarray(labels)\n",
    "print(\"Shape of data tensor:\", data.shape)\n",
    "print(\"Shape of label tensor:\", labels.shape)\n",
    "\n",
    "indices = np.arange(data.shape[0]) # Splits data into training and validation set, but shuffles is, since samples are ordered: \n",
    "# all negatives first, then all positive\n",
    "np.random.shuffle(indices)\n",
    "data = data[indices]\n",
    "labels = labels[indices]\n",
    "\n",
    "x_train = data[:training_samples] \n",
    "y_train = labels[:training_samples] \n",
    "x_val = data[training_samples:training_samples+validation_samples]\n",
    "y_val = labels[training_samples:training_samples+validation_samples]\n"
   ]
  },
  {
   "cell_type": "markdown",
   "metadata": {},
   "source": [
    "### Downloading and Preprocessing the GloVe word embedding\n",
    "file **glove.6B.zip** found in https://nlp.stanford.edu/projects/glove/ <br>\n",
    "The entire GloVe word embedding file is loaded into memory as a dictionary of word to embedding array; embeddings_index = {}"
   ]
  },
  {
   "cell_type": "code",
   "execution_count": 10,
   "metadata": {},
   "outputs": [
    {
     "name": "stdout",
     "output_type": "stream",
     "text": [
      "found 400000 word vectors.\n"
     ]
    }
   ],
   "source": [
    "glove_dir = \"F:\\\\Study\\\\UMT\\\\S7\\\\Deep Learning\\\\Assignments\\\\Assignment 3\\\\\"\n",
    "\n",
    "embeddings_index = {}\n",
    "\n",
    "f = open(os.path.join(glove_dir, \"glove.6B.200d.txt\"), encoding='utf-8') #added , encoding='utf-8'\n",
    "for line in f:\n",
    "    values = line.split()\n",
    "    word = values[0]\n",
    "    coefs = np.asarray(values[1:], dtype=\"float32\")\n",
    "    embeddings_index[word] = coefs\n",
    "f.close()\n",
    "\n",
    "print(\"found %s word vectors.\" % len (embeddings_index))"
   ]
  },
  {
   "cell_type": "markdown",
   "metadata": {},
   "source": [
    "Next, an embedding matrix is needed that can be loaded into an Embedding layer. The matrix' shape must be (max_words, embedding_dim), which is has a shape of a 10000 x 200 matrix. GloVe is 200 x 400000.\n",
    "#### Preparing the GloVe word embeddings matrix"
   ]
  },
  {
   "cell_type": "code",
   "execution_count": 11,
   "metadata": {},
   "outputs": [],
   "source": [
    "embedding_dim = 200 # GloVe contains 200-dimensional embedding vectors for 400.000 words\n",
    "\n",
    "embedding_matrix = np.zeros((max_words, embedding_dim)) # embedding_matrix.shape (10000, 200)\n",
    "for word, i in word_index.items():\n",
    "    if i < max_words:\n",
    "        embedding_vector = embeddings_index.get(word) # embedding_vector.shape (200,)\n",
    "        if embedding_vector is not None:\n",
    "            embedding_matrix[i] = embedding_vector # Words not found in the embedding index will all be zeros"
   ]
  },
  {
   "cell_type": "markdown",
   "metadata": {},
   "source": [
    "#### Model Definition"
   ]
  },
  {
   "cell_type": "code",
   "execution_count": 12,
   "metadata": {},
   "outputs": [
    {
     "name": "stdout",
     "output_type": "stream",
     "text": [
      "Model: \"sequential_1\"\n",
      "_________________________________________________________________\n",
      "Layer (type)                 Output Shape              Param #   \n",
      "=================================================================\n",
      "embedding_1 (Embedding)      (None, 300, 200)          2000000   \n",
      "_________________________________________________________________\n",
      "flatten_1 (Flatten)          (None, 60000)             0         \n",
      "_________________________________________________________________\n",
      "dense_1 (Dense)              (None, 32)                1920032   \n",
      "_________________________________________________________________\n",
      "dense_2 (Dense)              (None, 1)                 33        \n",
      "=================================================================\n",
      "Total params: 3,920,065\n",
      "Trainable params: 3,920,065\n",
      "Non-trainable params: 0\n",
      "_________________________________________________________________\n"
     ]
    }
   ],
   "source": [
    "from keras.models import Sequential\n",
    "from keras.layers import Embedding, Flatten, Dense\n",
    "\n",
    "model = Sequential()\n",
    "model.add(Embedding(max_words, embedding_dim, input_length = 300)) \n",
    "model.add(Flatten()) \n",
    "model.add(Dense(32, activation = \"relu\"))\n",
    "model.add(Dense(1, activation=\"sigmoid\")) \n",
    "model.summary()"
   ]
  },
  {
   "cell_type": "markdown",
   "metadata": {},
   "source": [
    "The Embedding layer now has a single weight matrix: a 2D float matrix where each entry is the word vector meant to be associated with index.\n",
    "#### Loading pretrained word embedding into the Embeddig layer\n",
    "Setting this to False makes sure the Embedding layer is non-trainable when calling it. \n",
    "If you were to set trainable = True, then it will allow the optimization algorithm to modify the values of the word embeddings.\n",
    "Pretrained parts shouldn't be updated during training, to avoid them forgetting what they already \"know\"."
   ]
  },
  {
   "cell_type": "code",
   "execution_count": 13,
   "metadata": {},
   "outputs": [],
   "source": [
    "model.layers[0].set_weights([embedding_matrix])\n",
    "model.layers[0].trainable = False "
   ]
  },
  {
   "cell_type": "markdown",
   "metadata": {},
   "source": [
    "#### Training and Evaluating the Model"
   ]
  },
  {
   "cell_type": "code",
   "execution_count": 14,
   "metadata": {},
   "outputs": [
    {
     "name": "stdout",
     "output_type": "stream",
     "text": [
      "Epoch 1/10\n",
      "7/7 [==============================] - 2s 275ms/step - loss: 2.7012 - acc: 0.5950 - val_loss: 1.5947 - val_acc: 0.5036\n",
      "Epoch 2/10\n",
      "7/7 [==============================] - 2s 223ms/step - loss: 0.8620 - acc: 0.6700 - val_loss: 0.8478 - val_acc: 0.5328\n",
      "Epoch 3/10\n",
      "7/7 [==============================] - 2s 219ms/step - loss: 0.2289 - acc: 0.9100 - val_loss: 0.7468 - val_acc: 0.5526\n",
      "Epoch 4/10\n",
      "7/7 [==============================] - 2s 219ms/step - loss: 0.0899 - acc: 1.0000 - val_loss: 0.7598 - val_acc: 0.5450\n",
      "Epoch 5/10\n",
      "7/7 [==============================] - 2s 216ms/step - loss: 0.0499 - acc: 1.0000 - val_loss: 0.9805 - val_acc: 0.5067\n",
      "Epoch 6/10\n",
      "7/7 [==============================] - 1s 204ms/step - loss: 0.0281 - acc: 1.0000 - val_loss: 0.7517 - val_acc: 0.5567\n",
      "Epoch 7/10\n",
      "7/7 [==============================] - 2s 216ms/step - loss: 0.0174 - acc: 1.0000 - val_loss: 0.9303 - val_acc: 0.5250\n",
      "Epoch 8/10\n",
      "7/7 [==============================] - 2s 233ms/step - loss: 0.0105 - acc: 1.0000 - val_loss: 0.7462 - val_acc: 0.5599\n",
      "Epoch 9/10\n",
      "7/7 [==============================] - 2s 234ms/step - loss: 0.0060 - acc: 1.0000 - val_loss: 0.8264 - val_acc: 0.5486\n",
      "Epoch 10/10\n",
      "7/7 [==============================] - 2s 314ms/step - loss: 0.0036 - acc: 1.0000 - val_loss: 0.8006 - val_acc: 0.5583\n"
     ]
    }
   ],
   "source": [
    "model.compile(optimizer = \"rmsprop\", \n",
    "              loss = \"binary_crossentropy\", # in a multiclass problem categorical_crossentropy would be used\n",
    "              metrics = [\"acc\"]) \n",
    "history = model.fit(x_train, y_train,\n",
    "                   epochs = 10,\n",
    "                   batch_size = 32,\n",
    "                   validation_data = (x_val, y_val))\n",
    "model.save_weights(\"pre_trained_glove_model.h5\")        "
   ]
  },
  {
   "cell_type": "code",
   "execution_count": 15,
   "metadata": {},
   "outputs": [
    {
     "name": "stdout",
     "output_type": "stream",
     "text": [
      "7/7 [==============================] - 0s 9ms/step - loss: 0.0025 - acc: 1.0000\n"
     ]
    },
    {
     "data": {
      "text/plain": [
       "[0.0025438563898205757, 1.0]"
      ]
     },
     "execution_count": 15,
     "metadata": {},
     "output_type": "execute_result"
    }
   ],
   "source": [
    "model.evaluate(x_train,y_train)"
   ]
  },
  {
   "cell_type": "markdown",
   "metadata": {},
   "source": [
    "#### Plotting the Results"
   ]
  },
  {
   "cell_type": "code",
   "execution_count": 16,
   "metadata": {},
   "outputs": [
    {
     "data": {
      "image/png": "[encoded data removed]",
      "text/plain": [
       "<Figure size 432x288 with 1 Axes>"
      ]
     },
     "metadata": {
      "needs_background": "light"
     },
     "output_type": "display_data"
    },
    {
     "data": {
      "image/png": "[encoded data removed]",
      "text/plain": [
       "<Figure size 432x288 with 1 Axes>"
      ]
     },
     "metadata": {
      "needs_background": "light"
     },
     "output_type": "display_data"
    }
   ],
   "source": [
    "import matplotlib.pyplot as plt\n",
    "\n",
    "acc = history.history[\"acc\"] # Training accuracy\n",
    "val_acc = history.history[\"val_acc\"] # Validation accuracy\n",
    "loss = history.history[\"loss\"] # Training loss\n",
    "val_loss = history.history[\"val_loss\"] # Validation loss\n",
    "\n",
    "epochs = range(1, len(acc) + 1) #plots every epoch, here 10\n",
    "\n",
    "plt.plot(epochs, acc, \"bo\", label = \"Training acc\") # \"bo\" gives dot plot\n",
    "plt.plot(epochs, val_acc, \"b\", label = \"Validation acc\") # \"b\" gives line plot\n",
    "plt.title(\"Training and validation accuracy\")\n",
    "plt.legend()\n",
    "plt.figure()\n",
    "\n",
    "plt.plot(epochs, loss, \"bo\", label = \"Training loss\")\n",
    "plt.plot(epochs, val_loss, \"b\", label = \"Validation loss\")\n",
    "plt.title(\"Training and validation loss\")\n",
    "plt.legend()\n",
    "\n",
    "plt.show()"
   ]
  },
  {
   "cell_type": "markdown",
   "metadata": {},
   "source": [
    "### LSTM example\n",
    "#### Preparing the IMDB data"
   ]
  },
  {
   "cell_type": "code",
   "execution_count": 17,
   "metadata": {},
   "outputs": [
    {
     "name": "stdout",
     "output_type": "stream",
     "text": [
      "loading data ...\n",
      "5000 train sequences\n",
      "5000 test sequences\n",
      "Pad sequences (samples x time)\n",
      "input_train shape: (5000, 500)\n",
      "input_test shape: (5000,)\n"
     ]
    }
   ],
   "source": [
    "from keras.datasets import imdb\n",
    "from keras.preprocessing import sequence\n",
    "np.warnings.filterwarnings('ignore', category=np.VisibleDeprecationWarning) \n",
    "\n",
    "batch_size = 32\n",
    "\n",
    "print (\"loading data ...\")\n",
    "(input_train, y_train), (input_test, y_test) = imdb.load_data(num_words = 10000)\n",
    "\n",
    "input_train = input_train[:5000]\n",
    "y_train = y_train[:5000]\n",
    "input_test = input_test[:5000]\n",
    "y_test = y_test[:5000]\n",
    "\n",
    "print(len(input_train), \"train sequences\")\n",
    "print(len(input_test), \"test sequences\")\n",
    "\n",
    "\n",
    "print(\"Pad sequences (samples x time)\")\n",
    "input_train = sequence.pad_sequences(input_train, maxlen=500)\n",
    "print(\"input_train shape:\", input_train.shape)\n",
    "print(\"input_test shape:\", input_test.shape)"
   ]
  },
  {
   "cell_type": "code",
   "execution_count": 18,
   "metadata": {
    "scrolled": true
   },
   "outputs": [
    {
     "name": "stdout",
     "output_type": "stream",
     "text": [
      "Epoch 1/10\n",
      "32/32 [==============================] - 10s 303ms/step - loss: 0.6929 - acc: 0.5960 - val_loss: 0.6412 - val_acc: 0.7460\n",
      "Epoch 2/10\n",
      "32/32 [==============================] - 9s 277ms/step - loss: 0.5722 - acc: 0.7805 - val_loss: 0.5236 - val_acc: 0.8040\n",
      "Epoch 3/10\n",
      "32/32 [==============================] - 9s 290ms/step - loss: 0.4517 - acc: 0.8440 - val_loss: 0.5082 - val_acc: 0.7740\n",
      "Epoch 4/10\n",
      "32/32 [==============================] - 8s 259ms/step - loss: 0.3483 - acc: 0.8788 - val_loss: 0.4201 - val_acc: 0.8170\n",
      "Epoch 5/10\n",
      "32/32 [==============================] - 9s 282ms/step - loss: 0.2587 - acc: 0.9168 - val_loss: 0.4000 - val_acc: 0.8190\n",
      "Epoch 6/10\n",
      "32/32 [==============================] - 9s 273ms/step - loss: 0.2004 - acc: 0.9358 - val_loss: 0.5732 - val_acc: 0.7200\n",
      "Epoch 7/10\n",
      "32/32 [==============================] - 9s 274ms/step - loss: 0.1497 - acc: 0.9532 - val_loss: 0.3718 - val_acc: 0.8460\n",
      "Epoch 8/10\n",
      "32/32 [==============================] - 9s 276ms/step - loss: 0.1126 - acc: 0.9650 - val_loss: 0.4560 - val_acc: 0.8030\n",
      "Epoch 9/10\n",
      "32/32 [==============================] - 9s 284ms/step - loss: 0.0884 - acc: 0.9750 - val_loss: 0.4459 - val_acc: 0.8040\n",
      "Epoch 10/10\n",
      "32/32 [==============================] - 9s 286ms/step - loss: 0.0660 - acc: 0.9825 - val_loss: 0.5961 - val_acc: 0.7830\n"
     ]
    }
   ],
   "source": [
    "from keras.models import Sequential\n",
    "from keras.layers import Embedding\n",
    "from keras.layers import LSTM\n",
    "from keras.layers import Flatten, Dense\n",
    "\n",
    "model = Sequential()\n",
    "model.add(Embedding(10000, 32))\n",
    "model.add(LSTM(32))\n",
    "model.add(Dense(1, activation = \"sigmoid\"))\n",
    "\n",
    "model.compile(optimizer = \"rmsprop\",\n",
    "             loss = \"binary_crossentropy\",\n",
    "             metrics = [\"acc\"])\n",
    "history = model.fit(input_train, y_train, epochs=10, batch_size=128, validation_split=0.2)"
   ]
  },
  {
   "cell_type": "code",
   "execution_count": 19,
   "metadata": {},
   "outputs": [
    {
     "name": "stdout",
     "output_type": "stream",
     "text": [
      "157/157 [==============================] - 6s 41ms/step - loss: 0.2114 - acc: 0.9224\n"
     ]
    },
    {
     "data": {
      "text/plain": [
       "[0.21143904328346252, 0.9223999977111816]"
      ]
     },
     "execution_count": 19,
     "metadata": {},
     "output_type": "execute_result"
    }
   ],
   "source": [
    "model.evaluate(input_train,y_train)"
   ]
  },
  {
   "cell_type": "code",
   "execution_count": 20,
   "metadata": {},
   "outputs": [
    {
     "data": {
      "image/png": "[encoded data removed]",
      "text/plain": [
       "<Figure size 432x288 with 1 Axes>"
      ]
     },
     "metadata": {
      "needs_background": "light"
     },
     "output_type": "display_data"
    },
    {
     "data": {
      "image/png": "[encoded data removed]",
      "text/plain": [
       "<Figure size 432x288 with 1 Axes>"
      ]
     },
     "metadata": {
      "needs_background": "light"
     },
     "output_type": "display_data"
    }
   ],
   "source": [
    "import matplotlib.pyplot as plt\n",
    "\n",
    "acc = history.history[\"acc\"] # Training accuracy\n",
    "val_acc = history.history[\"val_acc\"] # Validation accuracy\n",
    "loss = history.history[\"loss\"] # Training loss\n",
    "val_loss = history.history[\"val_loss\"] # Validation loss\n",
    "\n",
    "epochs = range(1, len(acc) + 1) #plots every epoch, here 10\n",
    "\n",
    "plt.plot(epochs, acc, \"bo\", label = \"Training acc\") # \"bo\" gives dot plot\n",
    "plt.plot(epochs, val_acc, \"b\", label = \"Validation acc\") # \"b\" gives line plot\n",
    "plt.title(\"Training and validation accuracy\")\n",
    "plt.legend()\n",
    "plt.figure()\n",
    "\n",
    "plt.plot(epochs, loss, \"bo\", label = \"Training loss\")\n",
    "plt.plot(epochs, val_loss, \"b\", label = \"Validation loss\")\n",
    "plt.title(\"Training and validation loss\")\n",
    "plt.legend()\n",
    "\n",
    "plt.show()"
   ]
  },
  {
   "cell_type": "code",
   "execution_count": null,
   "metadata": {},
   "outputs": [],
   "source": []
  }
 ],
 "metadata": {
  "kernelspec": {
   "display_name": "Python 3",
   "language": "python",
   "name": "python3"
  },
  "language_info": {
   "codemirror_mode": {
    "name": "ipython",
    "version": 3
   },
   "file_extension": ".py",
   "mimetype": "text/x-python",
   "name": "python",
   "nbconvert_exporter": "python",
   "pygments_lexer": "ipython3",
   "version": "3.8.5"
  }
 },
 "nbformat": 4,
 "nbformat_minor": 2
}
